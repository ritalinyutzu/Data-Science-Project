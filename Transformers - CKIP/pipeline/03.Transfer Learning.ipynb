{
 "cells": [
  {
   "cell_type": "code",
   "execution_count": 13,
   "id": "5824ceee-e67c-4759-a433-f9dfd014db75",
   "metadata": {},
   "outputs": [
    {
     "data": {
      "text/plain": [
       "'3.8.3'"
      ]
     },
     "execution_count": 13,
     "metadata": {},
     "output_type": "execute_result"
    }
   ],
   "source": [
    "import pandas as pd\n",
    "import gensim\n",
    "from gensim.models import KeyedVectors, Word2Vec\n",
    "import os\n",
    "from ast import literal_eval\n",
    "os.chdir('/Users/ethanwu/Desktop/Python/Fubon/04. momo_10k_prod')\n",
    "\n",
    "gensim.__version__"
   ]
  },
  {
   "cell_type": "code",
   "execution_count": 25,
   "id": "1362aacf-c0f4-4900-afda-2ff85409221d",
   "metadata": {},
   "outputs": [
    {
     "data": {
      "text/html": [
       "<div>\n",
       "<style scoped>\n",
       "    .dataframe tbody tr th:only-of-type {\n",
       "        vertical-align: middle;\n",
       "    }\n",
       "\n",
       "    .dataframe tbody tr th {\n",
       "        vertical-align: top;\n",
       "    }\n",
       "\n",
       "    .dataframe thead th {\n",
       "        text-align: right;\n",
       "    }\n",
       "</style>\n",
       "<table border=\"1\" class=\"dataframe\">\n",
       "  <thead>\n",
       "    <tr style=\"text-align: right;\">\n",
       "      <th></th>\n",
       "      <th>brand</th>\n",
       "      <th>element</th>\n",
       "      <th>tag_result</th>\n",
       "    </tr>\n",
       "  </thead>\n",
       "  <tbody>\n",
       "    <tr>\n",
       "      <th>0</th>\n",
       "      <td>Levis</td>\n",
       "      <td>[李维斯（Levi's）是著名的牛仔裤品牌，作为牛仔裤的“鼻祖”，象征着美国野性、刚毅、叛逆...</td>\n",
       "      <td>[WhiteOak, 美國, 牛仔, 牛仔褲, 李維, 猶太, 商人, 服飾]</td>\n",
       "    </tr>\n",
       "  </tbody>\n",
       "</table>\n",
       "</div>"
      ],
      "text/plain": [
       "   brand                                            element  \\\n",
       "0  Levis  [李维斯（Levi's）是著名的牛仔裤品牌，作为牛仔裤的“鼻祖”，象征着美国野性、刚毅、叛逆...   \n",
       "\n",
       "                                tag_result  \n",
       "0  [WhiteOak, 美國, 牛仔, 牛仔褲, 李維, 猶太, 商人, 服飾]  "
      ]
     },
     "execution_count": 25,
     "metadata": {},
     "output_type": "execute_result"
    }
   ],
   "source": [
    "data = pd.read_csv('./data/deployment/input_sample.csv',\n",
    "                  converters = {'brand':str,\n",
    "                               'element':literal_eval})\n",
    "data['tag_result'] = [['WhiteOak','美國', '牛仔', '牛仔褲', '李維', '猶太', '商人', '服飾']]\n",
    "data.head(3)"
   ]
  },
  {
   "cell_type": "code",
   "execution_count": 26,
   "id": "d672a5ce-8fef-40b1-a925-d2bf41fda43d",
   "metadata": {},
   "outputs": [
    {
     "name": "stdout",
     "output_type": "stream",
     "text": [
      "CPU times: user 55.6 s, sys: 970 ms, total: 56.6 s\n",
      "Wall time: 56.1 s\n"
     ]
    }
   ],
   "source": [
    "%%time\n",
    "model = KeyedVectors.load_word2vec_format('./model/w2v_CNA_ASBC_300d.vec',\n",
    "                                        binary=False, encoding = 'utf-8', unicode_errors='ignore')"
   ]
  },
  {
   "cell_type": "code",
   "execution_count": 28,
   "id": "80187d3b-0b64-49bc-a69a-86eec4284923",
   "metadata": {},
   "outputs": [
    {
     "data": {
      "text/plain": [
       "[['WhiteOak']]"
      ]
     },
     "execution_count": 28,
     "metadata": {},
     "output_type": "execute_result"
    }
   ],
   "source": [
    "complement_data = set()\n",
    "for x in data['tag_result'][0]:\n",
    "    if x not in model.vocab:\n",
    "        complement_data.add(x)\n",
    "\n",
    "#[x]是gensim格式\n",
    "complement_data = [[x] for x in complement_data]\n",
    "complement_data"
   ]
  },
  {
   "cell_type": "markdown",
   "id": "7a2ea71d-dad8-4812-b31e-dc8644dbbfaf",
   "metadata": {},
   "source": [
    "#### Transfer Learning"
   ]
  },
  {
   "cell_type": "code",
   "execution_count": 30,
   "id": "a4f28c20-4021-4a76-9855-d6f3ac1d6adf",
   "metadata": {},
   "outputs": [
    {
     "name": "stdout",
     "output_type": "stream",
     "text": [
      "CPU times: user 2min 1s, sys: 1.75 s, total: 2min 3s\n",
      "Wall time: 2min 2s\n"
     ]
    },
    {
     "data": {
      "text/plain": [
       "(240, 240)"
      ]
     },
     "execution_count": 30,
     "metadata": {},
     "output_type": "execute_result"
    }
   ],
   "source": [
    "%%time \n",
    "#lockf=0.0(不更新)->1.0(更新)\n",
    "\n",
    "model_new = gensim.models.Word2Vec(min_count=1,size=300)\n",
    "model_new.build_vocab([[x] for x in model.vocab.keys()]+complement_data)\n",
    "model_new.intersect_word2vec_format('./model/w2v_CNA_ASBC_300d.vec',\n",
    "                                   lockf=0.0,binary=False,unicode_errors='ignore')\n",
    "model_new.train(data['tag_result'].to_list(),total_examples=(len(data['tag_result'].to_list()\n",
    "                                                                +complement_data)),\n",
    "                epochs=30)"
   ]
  },
  {
   "cell_type": "code",
   "execution_count": 32,
   "id": "de657d15-aaa8-46d6-a621-707d7f6ae013",
   "metadata": {},
   "outputs": [
    {
     "name": "stdout",
     "output_type": "stream",
     "text": [
      "Origin: [-0.100454  0.580426  0.08833  -0.233083  0.155034  0.328045 -0.201915\n",
      "  0.204724  0.403323 -0.240968]\n",
      "New: [-0.100454  0.580426  0.08833  -0.233083  0.155034  0.328045 -0.201915\n",
      "  0.204724  0.403323 -0.240968]\n"
     ]
    }
   ],
   "source": [
    "print(f'Origin:',model['戒指'][:10])\n",
    "print(f'New:',model_new.wv['戒指'][:10])"
   ]
  },
  {
   "cell_type": "code",
   "execution_count": 33,
   "id": "48cbfc66-797c-48db-8bfe-bba31af1a741",
   "metadata": {},
   "outputs": [
    {
     "data": {
      "text/plain": [
       "[('牛仔', 0.720608115196228),\n",
       " ('牛仔褲', 0.7087457776069641),\n",
       " ('李維', 0.6976678371429443),\n",
       " ('襯衫', 0.5930806398391724),\n",
       " ('穿著', 0.5644718408584595),\n",
       " ('褲', 0.5548107028007507),\n",
       " ('立領', 0.5545482039451599),\n",
       " ('穿', 0.5527833104133606),\n",
       " ('上衣', 0.5522429943084717),\n",
       " ('綠惡魔', 0.5514758825302124)]"
      ]
     },
     "execution_count": 33,
     "metadata": {},
     "output_type": "execute_result"
    }
   ],
   "source": [
    "model_new.wv.most_similar('WhiteOak')"
   ]
  },
  {
   "cell_type": "code",
   "execution_count": 34,
   "id": "cf8696a8-7652-4004-9845-6236c43a88db",
   "metadata": {},
   "outputs": [
    {
     "data": {
      "text/plain": [
       "True"
      ]
     },
     "execution_count": 34,
     "metadata": {},
     "output_type": "execute_result"
    }
   ],
   "source": [
    "'WhiteOak' in model_new.wv.vocab"
   ]
  },
  {
   "cell_type": "markdown",
   "id": "ef0f162b-9065-4d91-a3e4-792cd2cd152d",
   "metadata": {},
   "source": [
    "#### Note:\n",
    "* 做完transfer learning, 直接存model再做get vector會比較單純\n",
    "* 不建議做完transfer learning後存向量"
   ]
  },
  {
   "cell_type": "code",
   "execution_count": null,
   "id": "31bb89c1-d002-4240-8dd6-0a1b0ba81b0e",
   "metadata": {},
   "outputs": [],
   "source": [
    "# Save Model:\n",
    "# model_new.save('./model/w2v_CNA_ASBC_300d_new.model')\n",
    "# Word2Vec.load('./model/w2v_CNA_ASBC_300d_new.model')"
   ]
  },
  {
   "cell_type": "code",
   "execution_count": null,
   "id": "3cba4d91-058b-4ae5-8b76-9a90518def72",
   "metadata": {},
   "outputs": [],
   "source": [
    "# Save weight: \n",
    "# from gensim.models import KeyedVectors, Word2Vec\n",
    "# model_new.save_word2vec_format('./model/w2v_CNA_ASBC_300d_new.bin',binary=True)\n",
    "# model = KeyedVectors.load_word2vec_format('./model/w2v_CNA_ASBC_300d_new.bin',\n",
    "#                                         binary=True, encoding = 'utf-8', unicode_errors='ignore')"
   ]
  }
 ],
 "metadata": {
  "kernelspec": {
   "display_name": "Python 3 (ipykernel)",
   "language": "python",
   "name": "python3"
  },
  "language_info": {
   "codemirror_mode": {
    "name": "ipython",
    "version": 3
   },
   "file_extension": ".py",
   "mimetype": "text/x-python",
   "name": "python",
   "nbconvert_exporter": "python",
   "pygments_lexer": "ipython3",
   "version": "3.8.12"
  },
  "widgets": {
   "application/vnd.jupyter.widget-state+json": {
    "state": {},
    "version_major": 2,
    "version_minor": 0
   }
  }
 },
 "nbformat": 4,
 "nbformat_minor": 5
}
